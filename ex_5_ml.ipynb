{
  "nbformat": 4,
  "nbformat_minor": 0,
  "metadata": {
    "colab": {
      "name": "ex_5_ml.ipynb",
      "provenance": [],
      "collapsed_sections": [],
      "authorship_tag": "ABX9TyNGFQEshrnblMMvCNmXI+Xi",
      "include_colab_link": true
    },
    "kernelspec": {
      "name": "python3",
      "display_name": "Python 3"
    },
    "accelerator": "GPU"
  },
  "cells": [
    {
      "cell_type": "markdown",
      "metadata": {
        "id": "view-in-github",
        "colab_type": "text"
      },
      "source": [
        "<a href=\"https://colab.research.google.com/github/gadididi/ex_5-machine-learning/blob/main/ex_5_ml.ipynb\" target=\"_parent\"><img src=\"https://colab.research.google.com/assets/colab-badge.svg\" alt=\"Open In Colab\"/></a>"
      ]
    },
    {
      "cell_type": "code",
      "metadata": {
        "colab": {
          "base_uri": "https://localhost:8080/"
        },
        "id": "0qaKfrSodn4y",
        "outputId": "6928ce81-038b-4d94-ddd7-0a3549e17184"
      },
      "source": [
        "!nvidia-smi"
      ],
      "execution_count": 2,
      "outputs": [
        {
          "output_type": "stream",
          "text": [
            "Fri Jan  8 10:08:43 2021       \n",
            "+-----------------------------------------------------------------------------+\n",
            "| NVIDIA-SMI 460.27.04    Driver Version: 418.67       CUDA Version: 10.1     |\n",
            "|-------------------------------+----------------------+----------------------+\n",
            "| GPU  Name        Persistence-M| Bus-Id        Disp.A | Volatile Uncorr. ECC |\n",
            "| Fan  Temp  Perf  Pwr:Usage/Cap|         Memory-Usage | GPU-Util  Compute M. |\n",
            "|                               |                      |               MIG M. |\n",
            "|===============================+======================+======================|\n",
            "|   0  Tesla T4            Off  | 00000000:00:04.0 Off |                    0 |\n",
            "| N/A   35C    P8     9W /  70W |      0MiB / 15079MiB |      0%      Default |\n",
            "|                               |                      |                 ERR! |\n",
            "+-------------------------------+----------------------+----------------------+\n",
            "                                                                               \n",
            "+-----------------------------------------------------------------------------+\n",
            "| Processes:                                                                  |\n",
            "|  GPU   GI   CI        PID   Type   Process name                  GPU Memory |\n",
            "|        ID   ID                                                   Usage      |\n",
            "|=============================================================================|\n",
            "|  No running processes found                                                 |\n",
            "+-----------------------------------------------------------------------------+\n"
          ],
          "name": "stdout"
        }
      ]
    },
    {
      "cell_type": "code",
      "metadata": {
        "colab": {
          "base_uri": "https://localhost:8080/",
          "height": 35
        },
        "id": "etmrmvYwDfBa",
        "outputId": "c7dac841-5af0-490c-8103-62575da444f4"
      },
      "source": [
        "# check if you run on GPU. Should print '/device:GPU:0'\r\n",
        "%tensorflow_version 2.x\r\n",
        "import tensorflow as tf\r\n",
        "device_name = tf.test.gpu_device_name()\r\n",
        "if device_name != '/device:GPU:0':\r\n",
        "  raise SystemError('GPU device not found')\r\n",
        "print('Found GPU at: {}'.format(device_name))"
      ],
      "execution_count": 3,
      "outputs": [
        {
          "output_type": "execute_result",
          "data": {
            "application/vnd.google.colaboratory.intrinsic+json": {
              "type": "string"
            },
            "text/plain": [
              "'/device:GPU:0'"
            ]
          },
          "metadata": {
            "tags": []
          },
          "execution_count": 3
        }
      ]
    },
    {
      "cell_type": "code",
      "metadata": {
        "colab": {
          "base_uri": "https://localhost:8080/"
        },
        "id": "lzSwcGlxWOXE",
        "outputId": "7cb54b1a-4c38-47a3-965e-0428fc418a9e"
      },
      "source": [
        "# install pre requrment \r\n",
        "!pip install SoundFile"
      ],
      "execution_count": 4,
      "outputs": [
        {
          "output_type": "stream",
          "text": [
            "Requirement already satisfied: SoundFile in /usr/local/lib/python3.6/dist-packages (0.10.3.post1)\n",
            "Requirement already satisfied: cffi>=1.0 in /usr/local/lib/python3.6/dist-packages (from SoundFile) (1.14.4)\n",
            "Requirement already satisfied: pycparser in /usr/local/lib/python3.6/dist-packages (from cffi>=1.0->SoundFile) (2.20)\n"
          ],
          "name": "stdout"
        }
      ]
    },
    {
      "cell_type": "code",
      "metadata": {
        "colab": {
          "base_uri": "https://localhost:8080/"
        },
        "id": "_qSkqo9TJKoB",
        "outputId": "7d21d3f2-16a9-4d2d-b60c-cd01c4a9c9dd"
      },
      "source": [
        "# clone our project\r\n",
        "import os\r\n",
        "!pwd\r\n",
        "! rm -r ex_5/\r\n",
        "!pwd\r\n",
        "!mkdir \"ex_5\"\r\n",
        "%cd 'ex_5'\r\n",
        "!ls\r\n",
        "!git clone https://github.com/gadididi/ex_5-machine-learning.git"
      ],
      "execution_count": 5,
      "outputs": [
        {
          "output_type": "stream",
          "text": [
            "/content\n",
            "/content\n",
            "/content/ex_5\n",
            "Cloning into 'ex_5-machine-learning'...\n",
            "remote: Enumerating objects: 7, done.\u001b[K\n",
            "remote: Counting objects: 100% (7/7), done.\u001b[K\n",
            "remote: Compressing objects: 100% (7/7), done.\u001b[K\n",
            "remote: Total 9112 (delta 2), reused 0 (delta 0), pack-reused 9105\u001b[K\n",
            "Receiving objects: 100% (9112/9112), 195.87 MiB | 33.81 MiB/s, done.\n",
            "Resolving deltas: 100% (25/25), done.\n",
            "Checking out files: 100% (9038/9038), done.\n"
          ],
          "name": "stdout"
        }
      ]
    },
    {
      "cell_type": "code",
      "metadata": {
        "colab": {
          "base_uri": "https://localhost:8080/"
        },
        "id": "gPJH5zQ-bBrv",
        "outputId": "3f9697ff-8a67-46a2-d9e0-7f14498ea96f"
      },
      "source": [
        "%cd ex_5-machine-learning/\r\n",
        "!ls"
      ],
      "execution_count": 6,
      "outputs": [
        {
          "output_type": "stream",
          "text": [
            "/content/ex_5/ex_5-machine-learning\n",
            "cnn.py\t     ex_5_ml.ipynb  gcommand_dataset.py  short_valid\n",
            "details.txt  ex_5.py\t    short_train\t\t tmp_group_creator.py\n"
          ],
          "name": "stdout"
        }
      ]
    },
    {
      "cell_type": "code",
      "metadata": {
        "colab": {
          "base_uri": "https://localhost:8080/"
        },
        "id": "FGluoRHYbT4w",
        "outputId": "71c5ec3b-84df-4940-d91d-26d435a74cdc"
      },
      "source": [
        "!python ex_5.py"
      ],
      "execution_count": null,
      "outputs": [
        {
          "output_type": "stream",
          "text": [
            "epoch number:  1\n",
            "\n",
            "Tests set: Average loss: 0.0375, Accuracy: 436/1530 (28%)\n",
            "\n",
            "epoch number:  2\n",
            "\n",
            "Tests set: Average loss: 0.0307, Accuracy: 620/1530 (41%)\n",
            "\n",
            "epoch number:  3\n",
            "\n",
            "Tests set: Average loss: 0.0243, Accuracy: 789/1530 (52%)\n",
            "\n",
            "epoch number:  4\n",
            "\n",
            "Tests set: Average loss: 0.0206, Accuracy: 929/1530 (61%)\n",
            "\n",
            "epoch number:  5\n",
            "\n",
            "Tests set: Average loss: 0.1398, Accuracy: 960/1530 (63%)\n",
            "\n",
            "epoch number:  6\n",
            "\n",
            "Tests set: Average loss: 0.0162, Accuracy: 1067/1530 (70%)\n",
            "\n",
            "epoch number:  7\n"
          ],
          "name": "stdout"
        }
      ]
    }
  ]
}