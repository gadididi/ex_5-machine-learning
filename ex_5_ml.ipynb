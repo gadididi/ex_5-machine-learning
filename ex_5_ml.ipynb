{
  "nbformat": 4,
  "nbformat_minor": 0,
  "metadata": {
    "colab": {
      "name": "ex_5_ml.ipynb",
      "provenance": [],
      "collapsed_sections": [],
      "authorship_tag": "ABX9TyO7IdlhljTCvnBJMA7hJthN",
      "include_colab_link": true
    },
    "kernelspec": {
      "name": "python3",
      "display_name": "Python 3"
    },
    "accelerator": "GPU"
  },
  "cells": [
    {
      "cell_type": "markdown",
      "metadata": {
        "id": "view-in-github",
        "colab_type": "text"
      },
      "source": [
        "<a href=\"https://colab.research.google.com/github/gadididi/ex_5-machine-learning/blob/main/ex_5_ml.ipynb\" target=\"_parent\"><img src=\"https://colab.research.google.com/assets/colab-badge.svg\" alt=\"Open In Colab\"/></a>"
      ]
    },
    {
      "cell_type": "code",
      "metadata": {
        "id": "0qaKfrSodn4y"
      },
      "source": [
        "!nvidia-smi"
      ],
      "execution_count": null,
      "outputs": []
    },
    {
      "cell_type": "code",
      "metadata": {
        "id": "etmrmvYwDfBa"
      },
      "source": [
        "# check if you run on GPU. Should print '/device:GPU:0'\r\n",
        "import tensorflow as tf \r\n",
        "tf.test.gpu_device_name()"
      ],
      "execution_count": null,
      "outputs": []
    },
    {
      "cell_type": "code",
      "metadata": {
        "colab": {
          "base_uri": "https://localhost:8080/"
        },
        "id": "lzSwcGlxWOXE",
        "outputId": "6a85e13c-e5bc-4cf6-de7c-732309a49fb6"
      },
      "source": [
        "# install pre requrment \r\n",
        "!pip install SoundFile"
      ],
      "execution_count": 3,
      "outputs": [
        {
          "output_type": "stream",
          "text": [
            "Requirement already satisfied: SoundFile in /usr/local/lib/python3.6/dist-packages (0.10.3.post1)\n",
            "Requirement already satisfied: cffi>=1.0 in /usr/local/lib/python3.6/dist-packages (from SoundFile) (1.14.4)\n",
            "Requirement already satisfied: pycparser in /usr/local/lib/python3.6/dist-packages (from cffi>=1.0->SoundFile) (2.20)\n"
          ],
          "name": "stdout"
        }
      ]
    },
    {
      "cell_type": "code",
      "metadata": {
        "id": "_qSkqo9TJKoB"
      },
      "source": [
        "# clone our project\r\n",
        "import os\r\n",
        "!pwd\r\n",
        "! rm -r ex_5/\r\n",
        "!pwd\r\n",
        "!mkdir \"ex_5\"\r\n",
        "%cd 'ex_5'\r\n",
        "!ls\r\n",
        "!git clone https://github.com/gadididi/ex_5-machine-learning.git"
      ],
      "execution_count": null,
      "outputs": []
    },
    {
      "cell_type": "code",
      "metadata": {
        "id": "gPJH5zQ-bBrv"
      },
      "source": [
        "%cd ex_5-machine-learning/\r\n",
        "!ls"
      ],
      "execution_count": null,
      "outputs": []
    },
    {
      "cell_type": "code",
      "metadata": {
        "id": "FGluoRHYbT4w"
      },
      "source": [
        "!python ex_5.py"
      ],
      "execution_count": null,
      "outputs": []
    }
  ]
}