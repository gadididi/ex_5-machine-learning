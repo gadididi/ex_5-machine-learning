{
  "nbformat": 4,
  "nbformat_minor": 0,
  "metadata": {
    "colab": {
      "name": "ex_5_ml.ipynb",
      "provenance": [],
      "collapsed_sections": [],
      "authorship_tag": "ABX9TyO7IdlhljTCvnBJMA7hJthN",
      "include_colab_link": true
    },
    "kernelspec": {
      "name": "python3",
      "display_name": "Python 3"
    },
    "accelerator": "GPU"
  },
  "cells": [
    {
      "cell_type": "markdown",
      "metadata": {
        "id": "view-in-github",
        "colab_type": "text"
      },
      "source": [
        "<a href=\"https://colab.research.google.com/github/gadididi/ex_5-machine-learning/blob/dropout/ex_5_ml.ipynb\" target=\"_parent\"><img src=\"https://colab.research.google.com/assets/colab-badge.svg\" alt=\"Open In Colab\"/></a>"
      ]
    },
    {
      "cell_type": "code",
      "metadata": {
        "colab": {
          "base_uri": "https://localhost:8080/"
        },
        "id": "0qaKfrSodn4y",
        "outputId": "750ae8ed-fddb-4241-d0bb-882794d337ec"
      },
      "source": [
        "!nvidia-smi"
      ],
      "execution_count": 1,
      "outputs": [
        {
          "output_type": "stream",
          "text": [
            "Fri Jan  8 09:52:14 2021       \n",
            "+-----------------------------------------------------------------------------+\n",
            "| NVIDIA-SMI 460.27.04    Driver Version: 418.67       CUDA Version: 10.1     |\n",
            "|-------------------------------+----------------------+----------------------+\n",
            "| GPU  Name        Persistence-M| Bus-Id        Disp.A | Volatile Uncorr. ECC |\n",
            "| Fan  Temp  Perf  Pwr:Usage/Cap|         Memory-Usage | GPU-Util  Compute M. |\n",
            "|                               |                      |               MIG M. |\n",
            "|===============================+======================+======================|\n",
            "|   0  Tesla T4            Off  | 00000000:00:04.0 Off |                    0 |\n",
            "| N/A   33C    P8     9W /  70W |      0MiB / 15079MiB |      0%      Default |\n",
            "|                               |                      |                 ERR! |\n",
            "+-------------------------------+----------------------+----------------------+\n",
            "                                                                               \n",
            "+-----------------------------------------------------------------------------+\n",
            "| Processes:                                                                  |\n",
            "|  GPU   GI   CI        PID   Type   Process name                  GPU Memory |\n",
            "|        ID   ID                                                   Usage      |\n",
            "|=============================================================================|\n",
            "|  No running processes found                                                 |\n",
            "+-----------------------------------------------------------------------------+\n"
          ],
          "name": "stdout"
        }
      ]
    },
    {
      "cell_type": "code",
      "metadata": {
        "colab": {
          "base_uri": "https://localhost:8080/",
          "height": 35
        },
        "id": "etmrmvYwDfBa",
        "outputId": "79c7dd68-7f0b-493e-d9dc-5141313beaeb"
      },
      "source": [
        "# check if you run on GPU. Should print '/device:GPU:0'\r\n",
        "import tensorflow as tf \r\n",
        "tf.test.gpu_device_name()"
      ],
      "execution_count": 2,
      "outputs": [
        {
          "output_type": "execute_result",
          "data": {
            "application/vnd.google.colaboratory.intrinsic+json": {
              "type": "string"
            },
            "text/plain": [
              "'/device:GPU:0'"
            ]
          },
          "metadata": {
            "tags": []
          },
          "execution_count": 2
        }
      ]
    },
    {
      "cell_type": "code",
      "metadata": {
        "colab": {
          "base_uri": "https://localhost:8080/"
        },
        "id": "lzSwcGlxWOXE",
        "outputId": "6a85e13c-e5bc-4cf6-de7c-732309a49fb6"
      },
      "source": [
        "# install pre requrment \r\n",
        "!pip install SoundFile"
      ],
      "execution_count": 3,
      "outputs": [
        {
          "output_type": "stream",
          "text": [
            "Requirement already satisfied: SoundFile in /usr/local/lib/python3.6/dist-packages (0.10.3.post1)\n",
            "Requirement already satisfied: cffi>=1.0 in /usr/local/lib/python3.6/dist-packages (from SoundFile) (1.14.4)\n",
            "Requirement already satisfied: pycparser in /usr/local/lib/python3.6/dist-packages (from cffi>=1.0->SoundFile) (2.20)\n"
          ],
          "name": "stdout"
        }
      ]
    },
    {
      "cell_type": "code",
      "metadata": {
        "colab": {
          "base_uri": "https://localhost:8080/"
        },
        "id": "_qSkqo9TJKoB",
        "outputId": "9ca3433c-98db-4d69-cdb2-afbbf705f8be"
      },
      "source": [
        "# clone our project\r\n",
        "import os\r\n",
        "!pwd\r\n",
        "! rm -r ex_5/\r\n",
        "!pwd\r\n",
        "!mkdir \"ex_5\"\r\n",
        "%cd 'ex_5'\r\n",
        "!ls\r\n",
        "!git clone https://github.com/gadididi/ex_5-machine-learning.git"
      ],
      "execution_count": 7,
      "outputs": [
        {
          "output_type": "stream",
          "text": [
            "/content/ex_5\n",
            "rm: cannot remove 'ex_5/': No such file or directory\n",
            "/content/ex_5\n",
            "/content/ex_5/ex_5\n",
            "Cloning into 'ex_5-machine-learning'...\n",
            "remote: Enumerating objects: 9105, done.\u001b[K\n",
            "remote: Total 9105 (delta 0), reused 0 (delta 0), pack-reused 9105\u001b[K\n",
            "Receiving objects: 100% (9105/9105), 195.86 MiB | 33.74 MiB/s, done.\n",
            "Resolving deltas: 100% (23/23), done.\n",
            "Checking out files: 100% (9037/9037), done.\n"
          ],
          "name": "stdout"
        }
      ]
    },
    {
      "cell_type": "code",
      "metadata": {
        "colab": {
          "base_uri": "https://localhost:8080/"
        },
        "id": "gPJH5zQ-bBrv",
        "outputId": "4c619f91-b392-46b3-9314-92e5b13dda2f"
      },
      "source": [
        "%cd ex_5-machine-learning/\r\n",
        "!ls"
      ],
      "execution_count": 9,
      "outputs": [
        {
          "output_type": "stream",
          "text": [
            "/content/ex_5/ex_5/ex_5-machine-learning\n",
            "cnn.py\t     ex_5.py\t\t  short_train  tmp_group_creator.py\n",
            "details.txt  gcommand_dataset.py  short_valid\n"
          ],
          "name": "stdout"
        }
      ]
    },
    {
      "cell_type": "code",
      "metadata": {
        "colab": {
          "base_uri": "https://localhost:8080/"
        },
        "id": "FGluoRHYbT4w",
        "outputId": "c4593437-32f6-4869-e977-c7c1efc865b2"
      },
      "source": [
        "!python ex_5.py"
      ],
      "execution_count": 10,
      "outputs": [
        {
          "output_type": "stream",
          "text": [
            "epoch number:  1\n",
            "Traceback (most recent call last):\n",
            "  File \"ex_5.py\", line 69, in <module>\n",
            "    main()\n",
            "  File \"ex_5.py\", line 65, in main\n",
            "    run_model(train_loader, val_loader)\n",
            "  File \"ex_5.py\", line 51, in run_model\n",
            "    train(train_loader)\n",
            "  File \"ex_5.py\", line 24, in train\n",
            "    output_train = best_model(data_)\n",
            "  File \"/usr/local/lib/python3.6/dist-packages/torch/nn/modules/module.py\", line 727, in _call_impl\n",
            "    result = self.forward(*input, **kwargs)\n",
            "  File \"/content/ex_5/ex_5/ex_5-machine-learning/cnn.py\", line 49, in forward\n",
            "    x = self.cnn_layers(x)\n",
            "  File \"/usr/local/lib/python3.6/dist-packages/torch/nn/modules/module.py\", line 727, in _call_impl\n",
            "    result = self.forward(*input, **kwargs)\n",
            "  File \"/usr/local/lib/python3.6/dist-packages/torch/nn/modules/container.py\", line 117, in forward\n",
            "    input = module(input)\n",
            "  File \"/usr/local/lib/python3.6/dist-packages/torch/nn/modules/module.py\", line 727, in _call_impl\n",
            "    result = self.forward(*input, **kwargs)\n",
            "  File \"/usr/local/lib/python3.6/dist-packages/torch/nn/modules/pooling.py\", line 155, in forward\n",
            "    self.return_indices)\n",
            "  File \"/usr/local/lib/python3.6/dist-packages/torch/_jit_internal.py\", line 267, in fn\n",
            "    return if_false(*args, **kwargs)\n",
            "  File \"/usr/local/lib/python3.6/dist-packages/torch/nn/functional.py\", line 586, in _max_pool2d\n",
            "    input, kernel_size, stride, padding, dilation, ceil_mode)\n",
            "KeyboardInterrupt\n"
          ],
          "name": "stdout"
        }
      ]
    }
  ]
}